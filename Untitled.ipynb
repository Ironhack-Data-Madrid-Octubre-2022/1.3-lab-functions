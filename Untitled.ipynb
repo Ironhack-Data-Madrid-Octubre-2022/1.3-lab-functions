{
 "cells": [
  {
   "cell_type": "code",
   "execution_count": 2,
   "id": "664a12df",
   "metadata": {},
   "outputs": [],
   "source": [
    "lista_min= ('a,b,c,d,e,f,g,h,i,k,j,k,l,m,n,o,p,q,r,s,t,u,v,w,x,y,z')\n",
    "lista_may= lista_min.upper"
   ]
  },
  {
   "cell_type": "code",
   "execution_count": 3,
   "id": "b9374125",
   "metadata": {},
   "outputs": [
    {
     "name": "stdout",
     "output_type": "stream",
     "text": [
      "a,b,c,d,e,f,g,h,i,k,j,k,l,m,n,o,p,q,r,s,t,u,v,w,x,y,z\n"
     ]
    }
   ],
   "source": [
    "print(lista_min)"
   ]
  },
  {
   "cell_type": "code",
   "execution_count": 4,
   "id": "a306a73a",
   "metadata": {},
   "outputs": [
    {
     "name": "stdout",
     "output_type": "stream",
     "text": [
      "<built-in method upper of str object at 0x0000014C8A006DC0>\n"
     ]
    }
   ],
   "source": [
    "print(lista_may)"
   ]
  },
  {
   "cell_type": "code",
   "execution_count": null,
   "id": "d8951819",
   "metadata": {},
   "outputs": [],
   "source": []
  }
 ],
 "metadata": {
  "kernelspec": {
   "display_name": "Python 3 (ipykernel)",
   "language": "python",
   "name": "python3"
  },
  "language_info": {
   "codemirror_mode": {
    "name": "ipython",
    "version": 3
   },
   "file_extension": ".py",
   "mimetype": "text/x-python",
   "name": "python",
   "nbconvert_exporter": "python",
   "pygments_lexer": "ipython3",
   "version": "3.9.12"
  }
 },
 "nbformat": 4,
 "nbformat_minor": 5
}
