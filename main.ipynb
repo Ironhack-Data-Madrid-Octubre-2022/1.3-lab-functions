{
 "cells": [
  {
   "cell_type": "markdown",
   "metadata": {
    "toc": true
   },
   "source": [
    "<h1>Table of Contents<span class=\"tocSkip\"></span></h1>\n",
    "<div class=\"toc\"><ul class=\"toc-item\"><li><span><a href=\"#Functions\" data-toc-modified-id=\"Functions-1\"><span class=\"toc-item-num\">1&nbsp;&nbsp;</span>Functions</a></span><ul class=\"toc-item\"><li><span><a href=\"#1.-Write-a-function-that-returns-the-greater-of-two-numbers\" data-toc-modified-id=\"1.-Write-a-function-that-returns-the-greater-of-two-numbers-1.1\"><span class=\"toc-item-num\">1.1&nbsp;&nbsp;</span>1. Write a function that returns the greater of two numbers</a></span></li><li><span><a href=\"#2.-Now-write-a-function-that-returns-the-largest-element-on-a-list\" data-toc-modified-id=\"2.-Now-write-a-function-that-returns-the-largest-element-on-a-list-1.2\"><span class=\"toc-item-num\">1.2&nbsp;&nbsp;</span>2. Now write a function that returns the largest element on a list</a></span></li><li><span><a href=\"#3.-Write-a-function-that-sums-all-the-elements-on-a-list\" data-toc-modified-id=\"3.-Write-a-function-that-sums-all-the-elements-on-a-list-1.3\"><span class=\"toc-item-num\">1.3&nbsp;&nbsp;</span>3. Write a function that sums all the elements on a list</a></span></li><li><span><a href=\"#4.-Write-another-function-that-multiplies-all-the-elements-on-a-list\" data-toc-modified-id=\"4.-Write-another-function-that-multiplies-all-the-elements-on-a-list-1.4\"><span class=\"toc-item-num\">1.4&nbsp;&nbsp;</span>4. Write another function that multiplies all the elements on a list</a></span></li><li><span><a href=\"#5.-Now-combine-those-two-ideas-and-write-a-function-that-receives-a-list-and-either-&quot;+&quot;-or-&quot;*&quot;-and-outputs-acordingly\" data-toc-modified-id=\"5.-Now-combine-those-two-ideas-and-write-a-function-that-receives-a-list-and-either-&quot;+&quot;-or-&quot;*&quot;-and-outputs-acordingly-1.5\"><span class=\"toc-item-num\">1.5&nbsp;&nbsp;</span>5. Now combine those two ideas and write a function that receives a list and either \"+\" or \"*\" and outputs acordingly</a></span></li><li><span><a href=\"#6.-Write-a-function-that-returns-the-factorial-of-a-number.\" data-toc-modified-id=\"6.-Write-a-function-that-returns-the-factorial-of-a-number.-1.6\"><span class=\"toc-item-num\">1.6&nbsp;&nbsp;</span>6. Write a function that returns the factorial of a number.</a></span></li><li><span><a href=\"#7.-Write-a-function-that-takes-a-list-and-returns-a-list-of-the-unique-values.\" data-toc-modified-id=\"7.-Write-a-function-that-takes-a-list-and-returns-a-list-of-the-unique-values.-1.7\"><span class=\"toc-item-num\">1.7&nbsp;&nbsp;</span>7. Write a function that takes a list and returns a list of the unique values.</a></span></li><li><span><a href=\"#8.-Write-a-function-that-returns-the-mode-of-a-list,-i.e.:-the-element-that-appears-the-most-times.\" data-toc-modified-id=\"8.-Write-a-function-that-returns-the-mode-of-a-list,-i.e.:-the-element-that-appears-the-most-times.-1.8\"><span class=\"toc-item-num\">1.8&nbsp;&nbsp;</span>8. Write a function that returns the mode of a list, i.e.: the element that appears the most times.</a></span></li><li><span><a href=\"#9.-Write-a-function-that-calculates-the-standard-deviation-of-a-list.\" data-toc-modified-id=\"9.-Write-a-function-that-calculates-the-standard-deviation-of-a-list.-1.9\"><span class=\"toc-item-num\">1.9&nbsp;&nbsp;</span>9. Write a function that calculates the standard deviation of a list.</a></span></li><li><span><a href=\"#10.-Write-a-function-to-check-if-a-string-is-a-pangram,-i.e.:-if-it-contains-all-the-letters-of-the-alphabet-at-least-once.-Mind-that-the-strings-may-contain-characters-that-are-not-letters.\" data-toc-modified-id=\"10.-Write-a-function-to-check-if-a-string-is-a-pangram,-i.e.:-if-it-contains-all-the-letters-of-the-alphabet-at-least-once.-Mind-that-the-strings-may-contain-characters-that-are-not-letters.-1.10\"><span class=\"toc-item-num\">1.10&nbsp;&nbsp;</span>10. Write a function to check if a string is a pangram, i.e.: if it contains all the letters of the alphabet at least once. Mind that the strings may contain characters that are not letters.</a></span></li><li><span><a href=\"#11.-Write-a-function-that-receives-a-string-of-comma-separated-words-and-returns-a-string-of-comma-separated-words-sorted-alphabetically.\" data-toc-modified-id=\"11.-Write-a-function-that-receives-a-string-of-comma-separated-words-and-returns-a-string-of-comma-separated-words-sorted-alphabetically.-1.11\"><span class=\"toc-item-num\">1.11&nbsp;&nbsp;</span>11. Write a function that receives a string of comma separated words and returns a string of comma separated words sorted alphabetically.</a></span></li><li><span><a href=\"#12.-Write-a-function-to-check-if-a-given-password-is-strong-(at-least-8-characters,-at-least-one-lower-case,-at-least-one-upper-case,-at-least-one-number-and-at-least-one-special-character).-It-should-output-True-if-strong-and-False-if-not.\" data-toc-modified-id=\"12.-Write-a-function-to-check-if-a-given-password-is-strong-(at-least-8-characters,-at-least-one-lower-case,-at-least-one-upper-case,-at-least-one-number-and-at-least-one-special-character).-It-should-output-True-if-strong-and-False-if-not.-1.12\"><span class=\"toc-item-num\">1.12&nbsp;&nbsp;</span>12. Write a function to check if a given password is strong (at least 8 characters, at least one lower case, at least one upper case, at least one number and at least one special character). It should output True if strong and False if not.</a></span></li></ul></li></ul></div>"
   ]
  },
  {
   "cell_type": "markdown",
   "metadata": {},
   "source": [
    "# Functions"
   ]
  },
  {
   "cell_type": "markdown",
   "metadata": {},
   "source": [
    "On this lab we will put to practice some of the concepts we have learned on this past few days.\n",
    "\n",
    "`NOTE: On this lab you should try to write all the functions yourself using only the most basic of python syntax and without functions such as len, count, sum, max, min, in, etc. Give it a try. 🧑🏻‍💻👩🏻‍💻`\n",
    "\n",
    "The cell after each exercise contains a few tests to check if your function works as expected."
   ]
  },
  {
   "cell_type": "code",
   "execution_count": 1,
   "metadata": {},
   "outputs": [],
   "source": [
    "#Run this cell\n",
    "\n",
    "from mod.testing import *\n",
    "import unittest"
   ]
  },
  {
   "cell_type": "markdown",
   "metadata": {},
   "source": [
    "## 1. Write a function that returns the greater of two numbers"
   ]
  },
  {
   "cell_type": "code",
   "execution_count": 2,
   "metadata": {},
   "outputs": [],
   "source": [
    "def greater(a,b):\n",
    "    if a > b:\n",
    "        return a\n",
    "    else:\n",
    "        return b"
   ]
  },
  {
   "cell_type": "code",
   "execution_count": 3,
   "metadata": {},
   "outputs": [
    {
     "name": "stderr",
     "output_type": "stream",
     "text": [
      "....................................................................................................\n",
      "----------------------------------------------------------------------\n",
      "Ran 100 tests in 0.067s\n",
      "\n",
      "OK\n"
     ]
    }
   ],
   "source": [
    "# This will test your function \n",
    "test_greater(greater)"
   ]
  },
  {
   "cell_type": "markdown",
   "metadata": {},
   "source": [
    "## 2. Now write a function that returns the largest element on a list"
   ]
  },
  {
   "cell_type": "code",
   "execution_count": 4,
   "metadata": {},
   "outputs": [],
   "source": [
    "def greatest(arr):\n",
    "    a = arr[0]\n",
    "    for i in arr:\n",
    "        if i>a:\n",
    "            a = i\n",
    "    \n",
    "    return a"
   ]
  },
  {
   "cell_type": "code",
   "execution_count": 5,
   "metadata": {},
   "outputs": [
    {
     "name": "stderr",
     "output_type": "stream",
     "text": [
      "....................................................................................................\n",
      "----------------------------------------------------------------------\n",
      "Ran 100 tests in 0.070s\n",
      "\n",
      "OK\n"
     ]
    }
   ],
   "source": [
    "# This will test your function \n",
    "test_greatest(greatest)"
   ]
  },
  {
   "cell_type": "markdown",
   "metadata": {},
   "source": [
    "## 3. Write a function that sums all the elements on a list"
   ]
  },
  {
   "cell_type": "code",
   "execution_count": 6,
   "metadata": {},
   "outputs": [],
   "source": [
    "def sum_all(arr):\n",
    "    sum = 0\n",
    "    for i in arr:\n",
    "        sum+=i\n",
    "    \n",
    "    return sum"
   ]
  },
  {
   "cell_type": "code",
   "execution_count": 7,
   "metadata": {},
   "outputs": [
    {
     "name": "stderr",
     "output_type": "stream",
     "text": [
      "....................................................................................................\n",
      "----------------------------------------------------------------------\n",
      "Ran 100 tests in 0.054s\n",
      "\n",
      "OK\n"
     ]
    }
   ],
   "source": [
    "# This will test your function \n",
    "test_sum(sum_all)"
   ]
  },
  {
   "cell_type": "markdown",
   "metadata": {},
   "source": [
    "## 4. Write another function that multiplies all the elements on a list"
   ]
  },
  {
   "cell_type": "code",
   "execution_count": 8,
   "metadata": {},
   "outputs": [],
   "source": [
    "def mult_all(arr):\n",
    "    mult = 1\n",
    "    for i in arr:\n",
    "        mult*=i\n",
    "    \n",
    "    return mult"
   ]
  },
  {
   "cell_type": "code",
   "execution_count": 9,
   "metadata": {},
   "outputs": [
    {
     "name": "stderr",
     "output_type": "stream",
     "text": [
      "....................................................................................................\n",
      "----------------------------------------------------------------------\n",
      "Ran 100 tests in 0.070s\n",
      "\n",
      "OK\n"
     ]
    }
   ],
   "source": [
    "# This will test your function \n",
    "test_mult(mult_all)"
   ]
  },
  {
   "cell_type": "markdown",
   "metadata": {},
   "source": [
    "## 5. Now combine those two ideas and write a function that receives a list and either \"+\" or \"*\" and outputs acordingly"
   ]
  },
  {
   "cell_type": "code",
   "execution_count": 10,
   "metadata": {},
   "outputs": [],
   "source": [
    "def oper_all(arr, oper):\n",
    "    \n",
    "    if oper == '+':\n",
    "        res = 0\n",
    "        for i in arr:\n",
    "            res += i\n",
    "    \n",
    "        return res\n",
    "        \n",
    "        \n",
    "    elif oper == '*':\n",
    "        res = 1\n",
    "        for i in arr:\n",
    "            res*=i\n",
    "    \n",
    "        return res\n",
    "    \n",
    "    "
   ]
  },
  {
   "cell_type": "code",
   "execution_count": 11,
   "metadata": {},
   "outputs": [
    {
     "name": "stderr",
     "output_type": "stream",
     "text": [
      "....................................................................................................\n",
      "----------------------------------------------------------------------\n",
      "Ran 100 tests in 0.074s\n",
      "\n",
      "OK\n"
     ]
    }
   ],
   "source": [
    "# This will test your function \n",
    "test_operations(oper_all)"
   ]
  },
  {
   "cell_type": "markdown",
   "metadata": {},
   "source": [
    "## 6. Write a function that returns the factorial of a number."
   ]
  },
  {
   "cell_type": "code",
   "execution_count": 12,
   "metadata": {},
   "outputs": [],
   "source": [
    "def factorial(n):\n",
    "    fact = 1\n",
    "    for i in range(1,n+1):\n",
    "        fact*=i\n",
    "    \n",
    "    return fact\n",
    "    \n",
    "    "
   ]
  },
  {
   "cell_type": "code",
   "execution_count": 13,
   "metadata": {},
   "outputs": [
    {
     "name": "stderr",
     "output_type": "stream",
     "text": [
      "....................................................................................................\n",
      "----------------------------------------------------------------------\n",
      "Ran 100 tests in 0.053s\n",
      "\n",
      "OK\n"
     ]
    }
   ],
   "source": [
    "# This will test your function \n",
    "test_factorial(factorial)"
   ]
  },
  {
   "cell_type": "markdown",
   "metadata": {},
   "source": [
    "## 7. Write a function that takes a list and returns a list of the unique values.\n",
    "\n",
    "`NOTE: You cannot use set. 🤔`"
   ]
  },
  {
   "cell_type": "code",
   "execution_count": 14,
   "metadata": {},
   "outputs": [],
   "source": [
    "def unique(arr):\n",
    "    list1 = []\n",
    "    for i in arr:\n",
    "        if i not in list1:\n",
    "            list1.append(i)\n",
    "    return list1\n",
    "        \n",
    "    \n",
    "    "
   ]
  },
  {
   "cell_type": "code",
   "execution_count": 15,
   "metadata": {},
   "outputs": [
    {
     "name": "stderr",
     "output_type": "stream",
     "text": [
      "....................................................................................................\n",
      "----------------------------------------------------------------------\n",
      "Ran 100 tests in 0.161s\n",
      "\n",
      "OK\n"
     ]
    }
   ],
   "source": [
    "# This will test your function \n",
    "test_unique(unique)"
   ]
  },
  {
   "cell_type": "markdown",
   "metadata": {},
   "source": [
    "## 8. Write a function that returns the mode of a list, i.e.: the element that appears the most times.\n",
    "`NOTE: You should not use count... 🧐`"
   ]
  },
  {
   "cell_type": "code",
   "execution_count": 16,
   "metadata": {},
   "outputs": [],
   "source": [
    "def mode_counter(arr):\n",
    "    list_count = []\n",
    "    #for i in range(len(arr)):\n",
    "     #   count = 0\n",
    "      #  for j in range(len(arr)):              HABIA USADO len en muchas funciones, así que cambio código\n",
    "       #     if arr[i] == arr[j]:\n",
    "        #        count += 1\n",
    "        #list_count.append(count)\n",
    "    \n",
    "    for i in arr:\n",
    "        count = 0\n",
    "        for j in arr:\n",
    "            if i == j:\n",
    "                count += 1\n",
    "        list_count.append(count)\n",
    "    \n",
    "    \n",
    "    \n",
    "    moda = arr[0]\n",
    "    moda_valor = 0\n",
    "    a = 0\n",
    "    for k in list_count:\n",
    "        if k >moda_valor:\n",
    "            moda = arr[a]\n",
    "        a+=1\n",
    "    return moda\n",
    "        \n",
    "    \n",
    "    "
   ]
  },
  {
   "cell_type": "code",
   "execution_count": 17,
   "metadata": {},
   "outputs": [
    {
     "name": "stderr",
     "output_type": "stream",
     "text": [
      "....................................................................................................\n",
      "----------------------------------------------------------------------\n",
      "Ran 100 tests in 0.184s\n",
      "\n",
      "OK\n"
     ]
    }
   ],
   "source": [
    "# This will test your function \n",
    "test_mode(mode_counter)"
   ]
  },
  {
   "cell_type": "markdown",
   "metadata": {},
   "source": [
    "## 9. Write a function that calculates the standard deviation of a list.\n",
    "`NOTE: Do not use any libraries or already built functions. 😉`"
   ]
  },
  {
   "cell_type": "code",
   "execution_count": 18,
   "metadata": {},
   "outputs": [],
   "source": [
    "from statistics import stdev\n",
    "def st_dev(arr):\n",
    "    mean_sum = 0\n",
    "    a = 0\n",
    "    for i in arr:\n",
    "        mean_sum += i\n",
    "        a+=1\n",
    "    mean = mean_sum/(a)\n",
    "    \n",
    "    var_sum = 0\n",
    "    \n",
    "    for j in arr:\n",
    "        var_sum += ((mean-j)**2)\n",
    "    var = var_sum/(a-1)\n",
    "    \n",
    "    st_dev = var**0.5\n",
    "    return st_dev\n",
    "        \n",
    "    "
   ]
  },
  {
   "cell_type": "code",
   "execution_count": 19,
   "metadata": {},
   "outputs": [
    {
     "name": "stderr",
     "output_type": "stream",
     "text": [
      "....................................................................................................\n",
      "----------------------------------------------------------------------\n",
      "Ran 100 tests in 0.054s\n",
      "\n",
      "OK\n"
     ]
    }
   ],
   "source": [
    "# This will test your function \n",
    "test_stdev(st_dev)"
   ]
  },
  {
   "cell_type": "markdown",
   "metadata": {},
   "source": [
    "## 10. Write a function to check if a string is a pangram, i.e.: if it contains all the letters of the alphabet at least once. Mind that the strings may contain characters that are not letters."
   ]
  },
  {
   "cell_type": "code",
   "execution_count": 20,
   "metadata": {},
   "outputs": [],
   "source": [
    "def pangram(string):\n",
    "    abc = ['a','b','c','d','e','f','g','h','i','j','k','l','m','n','o','p','q','r','s','t','u','v','w','x','y','z']\n",
    "    abc_cap = ['A','B','C','D','E','F','G','H','I','J','K','L','M','N','O','P','Q','R','S','T','U','V','W','X','Y','Z']\n",
    "    \n",
    "    a = 0 #contador de paso por for\n",
    "    \n",
    "    for i in abc:\n",
    "        if i not in string and abc_cap[a] not in string:\n",
    "            return False\n",
    "        a+=1\n",
    "    return True"
   ]
  },
  {
   "cell_type": "code",
   "execution_count": 21,
   "metadata": {},
   "outputs": [
    {
     "name": "stderr",
     "output_type": "stream",
     "text": [
      "..............................\n",
      "----------------------------------------------------------------------\n",
      "Ran 30 tests in 0.021s\n",
      "\n",
      "OK\n"
     ]
    }
   ],
   "source": [
    "# This will test your function \n",
    "test_pangram(pangram)"
   ]
  },
  {
   "cell_type": "markdown",
   "metadata": {},
   "source": [
    "## 11. Write a function that receives a string of comma separated words and returns a string of comma separated words sorted alphabetically.\n",
    "\n",
    "`NOTE: You may use sorted but not split and definitely no join! 🤪`"
   ]
  },
  {
   "cell_type": "code",
   "execution_count": 35,
   "metadata": {},
   "outputs": [],
   "source": [
    "def sort_alpha(string):\n",
    "    \n",
    "    lower = 0\n",
    "    upper = 0\n",
    "    list_sort = []\n",
    "    \n",
    "    a = 0 # contador de paso por for\n",
    "    \n",
    "    for i in string:\n",
    "        if i == ',':\n",
    "            upper = a\n",
    "            list_sort.append(string[lower:upper])\n",
    "            lower = a+1\n",
    "        a+=1\n",
    "    lowerf = -1\n",
    "\n",
    "   \n",
    "    \n",
    "    for k in string:\n",
    "        if string[lowerf] != ',':\n",
    "            lowerf -= 1\n",
    "        elif string [lowerf] == ',':\n",
    "            list_sort.append(string[lowerf+1::])\n",
    "            break\n",
    "    \n",
    "    \n",
    "    list_sort = sorted(list_sort)\n",
    "    b = 0  #contador de paso por for para saber longitud de list_sort\n",
    "    for l in list_sort:\n",
    "        b+=1\n",
    "        \n",
    "\n",
    "    string_sorted =''\n",
    "    for j in range(b-1):\n",
    "        string_sorted += list_sort[j]+','\n",
    "    string_sorted += list_sort[-1]\n",
    "    \n",
    "    print(string_sorted)\n",
    "    return string_sorted"
   ]
  },
  {
   "cell_type": "code",
   "execution_count": 36,
   "metadata": {},
   "outputs": [
    {
     "name": "stderr",
     "output_type": "stream",
     "text": [
      "....................................................................................................\n",
      "----------------------------------------------------------------------\n",
      "Ran 100 tests in 0.071s\n",
      "\n",
      "OK\n"
     ]
    },
    {
     "name": "stdout",
     "output_type": "stream",
     "text": [
      "bitcjhopmw,bsfkeiwy,fepmq,fmhomvcd,foxhlovnxm,heglkwo,jcvzm,jkkxkdp,joexuxpyx,klito,kmkggebl,kngngw,orbwz,oykquwtufv,qfhk,spbxxjw,xyqto,yfgmb\n",
      "gwju,gziuv,ibevx,ujmiqwxrfj,xhjssfhfth,xmxx,ydsj,zaxpz\n",
      "ajxjgy,bmts,jycftf,mzgtk,uvnrqpfg,wldkvfva,ywmg\n",
      "akahicxsbo,bock,cfjsuneh,enlu,fmvxuvb,gedaclqmw,gjcppkit,kkmrkestke,kujgiic,lemun,pcdzfqq,pxmc,rtiamqmr,sjrewqslhr,tjgjxqpusm,vdmgg,wqhglhlsrr,yxiuirgqbk,zoxwtnjrw,zwlpfcwqgb\n",
      "afzsts,akxc,icbrrwzq,kenjjcaurg,lekn,ozpa,pxqoeir,qfmiq,sknbc,ukqgihhpe,uqbrqrew,wilojfi\n",
      "apqyyu,azrgl,brhyqfm,gvvnq,irovxjfg,kdqpoy,lkysvzncr,ndhrn,ozvpmz,qnaxae,tmiuojzp,tsqi,uuamjhm,uxxil,vhnwdvghl,wtli,xopqvka\n",
      "aroawtis,dpecpaa,fonokcrqce,hcuoqt,jkkugq,kuxyqsuvvu,kwsfqxp,kzqp,lfivftbv,lohtlshdy,sqzyter,tehpmxuz,vwbolz,xjikrwweq,yleupfyz\n",
      "aglebuer,ahzqiycuk,amdhmnn,ayaupky,bxunivatyi,ctqfjghll,gebk,gjmrlyct,jbpke,jnnnsbmks,kbnpj,lxhdyce,nyee,nzoo,qwlx,rjgdc,sclazoigi,wrrptnqwdi,xxqmldq,yvktuvfe,yzcvmpo\n",
      "blysjrq,esdxrbvjik,fladp,ftuc,gdyjfvi,gqpowk,ijrxmkuvye,iqxajxfj,jzlob,lnpiztawop,mdzshzvtqc,mvrqz,obfxdrr,omukirs,qktwz,tljuuf,trkunhvvwy,xpjhjkj,yvzgt\n",
      "cbxajep,cgtgupa,cgxm,cvdrem,czfogb,deqrvylnmr,eodvxzq,fgvuvng,jotlkqzibv,nasximiuxg,oxmkdq,pkasnnz,pzvrm,rmvsvsuli,rvnsw,rzffhtreh,sktcegsvps,spkg,vmji,wbrludoqm,xvsgo,zcuqjvfix,zwhxmuih\n",
      "aeiswj,booho,decifo,ftjzjnpk,hwlhae,ikrwjttcmq,jovwvwga,lbsummb,luurlkw,qqbzgd,swfrqgfzx,uwlixmd,wvvnpbn\n",
      "abbk,dayd,ejfh,fkva,hxdo,kesymnjf,lyhgex,muyptanph,nemcvgxic,ngazc,nnsifm,omzv,skqmohrmr,ukobnfoee,umnvtzazjj,xbkesszl,xbygedlfuk\n",
      "bfni,djbqmjryi,gkby,lejexotwyl,ljrmfqnq,ncyljf,odwulifml,qlzjefgg,rgfknvavuq,ugubdfco,wlavoxcv,xnzpygbnlr,ynskws,yskpiioeo\n",
      "azohnskstb,biiqho,kmefobyo,nthvd,rguvk,wqsrwmvp,ysqnmdc\n",
      "bartylnnz,bigc,czezjswn,czhksinvnm,darbqwwzc,dctibwz,fouekhdka,gduul,hkypqvija,jcfouxec,jjupdmtfqd,kmmjhm,kpgpqesss,kqmwgk,mgxdr,omwvqmdrx,pxzgyribs,pyaw,ruksuvhhmx,svray,sxnaxazdq,vdswcwsgti,xwszagc\n",
      "afriyedsj,afsqymreb,arblwmj,birvkm,bqjekdsdj,cmnewboto,dqqbostltx,eymrkhuddf,ffaydrw,ikueywpi,jrhjnk,loyah,oqimmdt,qexiawiwd,rlfnzo,uokziybhm\n",
      "aebiu,azvytciu,bhtzhkdz,ccdt,ffgtj,htztlcx,iygijrky,ktpdos,lmoqfti,lzizu,nkesd,tdodoalii,zubsjxkzgp,zxgiao\n",
      "glzxdwlt,hzsm,rkflszmvj,syhjktxo,tppbcypofc\n",
      "cvev,diwnk,idybq,lajcrpl,lbbnbcycj,mlihfr,ushvxrjm,vfimiglm,ymavvej\n",
      "giiv,icxwynvd,jhspsuzsaz,jxgyrzt,lnkb,qfqqdrv,rkitj,rmnfwt,tatphqavav,tpopby,vcyaspzfpj,vtry,vylwnbd,wtycfyzoar,yxgmrdygbk,ztyfdftwx\n",
      "aliqwz,alnaxrhi,arawbjwd,biorqgksa,bxrvcc,iperybnhxg,izashx,kgetqqrw,lamyzoe,ouserskv,pmowftwti,psvgmugo,qnnkcwhnd,rbpon,tdqf,wkdaafbulc\n",
      "aagdmspy,acdivcarqj,bddnfu,bzxlqwzlno,cepydobi,cultuwonto,ecufz,exdiysyisu,fdesbjhc,fjzzneiys,gdvo,jezhtomhn,jylddlh,mtnze,nbihcfr,phsdfyvu,pkyaiz,rkwxzacidf,xwbfuvu,yfgeyiqdt\n",
      "aksxpa,bvphf,dacpyv,fehres,hpnhpgbywn,ieaxn,lwoyqgqw,oghyr,ozdzj,ratmt,rzyjs,sjmoc,trcwu,urptawjww,vivwp,vzuffm,xxiwyhj,zmznc,zwlg\n",
      "adxa,alqyecjzf,bgohkfbpxn,fqtihndqqo,ogwkeehu\n",
      "ahyzeiv,emdydtq,gocbxsgq,hgraa,isvtiailt,kodtau,ljrthksap,mjlnmabmrd,mlilt,mpvux,njnm,ohnieume,ynrxzw\n",
      "acgwpio,adkjwsybsb,advpkvft,bohnlbtktv,cupoctjy,ioddlechq,koxyjv,mruyjwtv,qolkppqkb,rljlwwjgn,sasvk,ugorepjs,uqbduzw,vpzp,xkcshcz,xptzyvn,xqmrtbxncw,yiqirz,zionyvmk,zurfo\n",
      "aqmdyg,auspozgysr,buft,fjnippnfwt,hadyymy,hlqci,ivlxn,kavpo,knta,nqzfv,ntqxn,pxiyzolxp,qdmvkf,qypfrx,qzyzty,sbaxwgywc,sgnn,tzmj,upoa,uqukfqrq,wbmuqznn,wdykabkycn,xfxdqf,xnqkakrf,yfobt\n",
      "qdolsakklc,rhks,sybb,xxzqa\n",
      "avarhio,gkxfscgwc,kcdban,mhkewc,qjuojpktc,rfmddj,rgnuiigzw,rjwpb,uqlatk,xbpjlho,zbyntjc\n",
      "anrhjt,bhwdci,clkaekb,dcqeota,fzhfhk,hlpbtii,ipvhjij,itfj,ixcfx,jyrrhbequ,khtrwb,lmvnmslau,lwopf,nuqwvuki,ovgrnoy,pzbbiloqi,ssoyhgue,ucrecjc,udihvrz,wggvumfhmz,ycbl,yfwsnxvly,yloovwqed,zjtlbfforg,zkyh\n",
      "acqm,baqkdnzoqw,bedeutnhpk,epaekzacuf,ewkt,fxuhcmvr,gixgbqdwcr,iiyyiplse,jvrimhccu,lrsv,nuqyjf,ocnoxuu,qrkdjdlz,seizoqbhme,shxsqjjkla,smsfa,sych,tzyjkxomnc,ueyqa,wkdcr,xebbomciqi,xshndiut,ydgpuxl,yjvgeelfz,zvtfe\n",
      "baugfzk,bypdmna,chlvonzd,eoewvzqw,ftdktepzxv,hfipzldr,imgert,mdofqjgzv,mfkprrzqgp,morvtuxswy,obmrsgbwhf,onjvr,pgywvz,pqtgntsb,rmtyoh,rrwgvxfyr,rwthx,synedbcq,tllbhymrmr,tnmjgyrwxr,trfmityig,vcev,vyojrbdds,wsjilps,yvtibgodjo\n",
      "ihsj,lfdrxnh,pmnjtarzq,sxhm,uzvmri,wukpqzdn,ybxufih,zzrrqk\n",
      "ahtxyuqwrv,dpud,drcjznc,ececve,eseaj,gdqs,hiotccpris,lvkytjkjos,lvnb,oakpbswj,pgnd,rifsiqwfu,zfvqrwez\n",
      "cjfhambcrp,dnmolrldaq,emip,gvuweezg,gwpaqpdjoo,haenxf,ilqxv,jjmidli,kodqiiit,ksibnxos,lboabmrp,lfbtskekm,lictbjpax,rtpiy,wvuvfhbdr,xhxig,xifodh,zbig,zblb,zrpiacizue\n",
      "admy,anwqbgndhf,bfopeww,dskpzdq,glglwog,hhth,hqdrkcldd,lgqqntws,lnbwcwshn,lquncnzyes,lsjjir,ppeljhnfg,tlzvobhyc,utwda,vfkgo,ygnfjmu,zqab\n",
      "amxugevm,ebpceufdn,fdyzwdy,lbixofzqrj,lqliyaxm,luuscwk,mtlihe,oytr,rktiq,rskc,zdsk\n",
      "cngzwkate,emdhn,gokpwhnd,gwigjyzg,hrfwzoowja,hvtexg,imlm,jrrx,jsmufdrnw,lshyg,ozswgfov,pidqrwjxfj,pnyy,pywvqi,uvoai,wooz,yujgdmwgwv\n",
      "gmwys,hvihu,nhfl,qsfobrntcs\n",
      "adrgdzo,agvwjzuyxg,apcvpnh,bdccfdpk,czpttgy,dsppihykgi,eupu,jgopy,kpshk,kwrvgwgwxu,lhuvrvcw,obpvtf,qngwlre,sskh,tcyef,ucidafmz,umwizdadq,uwcna,vxiipyuf\n",
      "bjwx,blyti,cfhalr,cljojvkxx,dexpolwa,dzdgn,fbizcdd,ipeaupodsf,jmdjtmyhg,jnbsgrw,kblmbjf,lwmwdpqdzj,mhhcexlm,mmacw,nyqdeeviad,pdmndtv,pybgopku,rfhntuf,sqwhty,uxwrwh,vbcsbmy,vjoaua,wjxujokz,xfjegyn\n",
      "dmbcwgtgpt,fuhipc,gcltpgv,gqgpdp,icjyi,kwxmyiedim,nngwr,onawod,pwfageb,qanl,tlvmfgz,vmke,xcwjrqrm,zgbkxozizn,zxmzjpsz,zzvossy\n",
      "almw,asuxxkaxrt,dbmhcaip,gxxjfxuvu,hnreom,ncetgexwkn,nlpekxgsu,ojvf,qqjwoa,qzdwgt,rfzpmwgfx,ucqdftnqo,yeqrn,zgurksmf\n",
      "aaleus,azyn,bhkuu,ffgdoi,fnvpuljl,fpyefce,gsyyqebvd,iumspr,jidns,jkfjsx,kkauuudpte,mvdyxf,scwqsy,spmsd,tunn,tuti,udqzdc,vdwxf,wxliuox,xpxa,znrryswo\n",
      "bqnp,feri,iohn,krurhbjqjo,ncfa,nzvuosii,nzyjkk,prnzawrhz,pzul,qugb,rxfch,sstvw,txyjuxzhpu,vhzieap,vofphbycah,zhmgraqjm,ziszral\n",
      "bfowixv,bhuzdlv,bmorhoau,ewpqs,fupjfmqor,gihbynnq,nakgzaptn,neiyzdv,nrgdflzosd,qacpsd,qqxrmgve,rktk,tkchbd,vjkvchads,wkamixyi,zbqrtj\n",
      "dhutvlqi,fkhtcyavc,noxvspmxqr,ttalxi,zwhzw\n",
      "aeeecc,fdzvfe,glvlztl,hyaiors,lytpnhobnh,mrqcftkezf,ouihx,pgxogpupn,pxwrok,qmioa,sxthhwc,vzlt,xfnxwcfz,yorfirjs,zfxwgxa,zosuygxk\n",
      "anaiqeydij,anguper,btfmjde,btsjd,dmwpud,hfeakry,homhqbwypx,pvsadi,rmkyw,rtizr,vdaijeilw,wvddruyou\n",
      "comdvd,fbsvb,gtxukbunz,jfoeftsfmx,mmwodqqvxq,mvvulsnjy,qqvzzcu,rjslpjh,twoixrtps,udettd,vituyqlohc,xbkhnxvpf,xqrly,yqhmsvrjti,yzlogb,zrgjmvcil\n",
      "azysljc,cfnly,dqsrbkuz,godtbnxf,gzfjmlkqu,idqtdzph,idubvsnd,ipblhzc,jdkafgycl,jnxywdnx,jouqmi,jyolwt,lmzxolu,pcgcrjmqkf,pnlrkjrb,rfeylnqty,ryotwznike,ullmoo,unxnwe,vaezgpo,wofwgeahgu,woujgvifnb,xdgb,xdxlhryox,yzlsj\n",
      "astmqysncd,bdtdg,cbmteukj,dlrlx,ertryvm,fchtpchrx,fdbuffejs,fpcqzjo,ghlyelf,ihdxjap,ikujyvfyx,ivxyzylaqy,jujcpur,kjnspwrr,qfxxomx,rejosi,rumplow,svnlhynalx,szhwyqdaw,xhxx,yksvik,yodpxuoa\n",
      "bciji,brrybdvx,bvvjcixf,ccvofv,fetywthtfd,fmyrnj,kwzjyrjw,leipcawx,lzkzvst,sogmfno,tcbztemz,yctanw,zelvd\n",
      "afeubul,destvcb,dhxvkeparm,dvuyn,nkojraichz,opolunro,stdypyy,wfcpiuns,xvwktmjyg,yybfgoibve,zygqvj\n",
      "bqeuuxqf,bqwekh,bxdhrsot,cljnci,ekkcetjyoo,fjtldgh,ijlvyp,kwecfhxaj,lwpciy,lxthibizp,mwqkav,obthkhp,pgdsr,qseyks,sbmxjxi,skuwnwrm,smbvmotva,tqzw,uulpgtk,vguzm,wcxt,wedfvylagy,ymbomxshl\n",
      "brfuaoamhc,lbvbdem,nohbzgq,qtocxp,sfgwnohdj\n",
      "btnwiacglq,cgccs,dhstb,dytdypwau,ebkgktvakk,eelav,efnctxpwix,iwvhdyf,jkeixzxszl,lbjqmjdo,neaorcfy,oxdacic,qahbjy,rwrneu,tkpv,tvtonc,ufytyilavp,umorx,vcuibyu,vipmq,voodxheka,wuvskb,wzpcgvdonh,xvtqqsqqvm,zzakecnsl\n",
      "morgididj,nmilc,nrpykpebf,vgzrqwe,ycvvi\n",
      "ajedttfpi,csnupni,dxyiml,eyue,fhovoyxski,gkshymz,hjybdr,ikmtkt,klefc,mevbnlgm,pvfvtnixu,rpoeuandas,ruxed,ybsxvvtw,yshnckse,zowmxgrlue\n",
      "btpjgyv,bxddx,ckyn,cttuahk,djbbjv,dnxbfxhm,duyzbc,fmllwgz,gknm,hbfnhgosce,hjxmhhqco,hyvywinfyb,jcdr,mjmlmiqj,nikphflrr,nqiogix,oneav,sapnfika,stbx,vnek,widmgo,xxpjjpf,yezjahrory\n",
      "ememdwmy,haygkorjk,ogqbgh,pvfzbqrruz,pxfq,qwgjpr,smasqjsda,voinwizl,wpvyegzca\n",
      "absdha,aict,bicoci,cmbmhwl,fsvuwf,kbeqdv,lbam,lcyogfgaj,numinquex,oacrhllj,qyhxwd,sbdommbedx,symqhm,uqxadai,wxem,ybshpnp,yxdk,zdhocwfap\n",
      "bfrfbramwl,dsilb,gjtvsiklbw,hehuv,kymwvkpp,teqyiuhdt,uibayupd\n",
      "aaptrah,avbkha,dedhb,dixhrkxbk,edgvsiwp,eejqy,egophqut,gurloewd,jswcxpj,jtfopez,lqmvprsrm,luya,odto,qlbanxjmh,revmdiuznn,suziynlppp,uzrpyxbnh,wfgirqloc,wlzaisvnw,wqabqm,xuzyngf,ybqm,ykuujeiabs,yrtnknlk,zsqgoum\n",
      "lusmq,nhzasz,pjzslq,pmewguc,pswit,qhyzao,sbpd,vvao,wspded,xhobwbez\n",
      "bhyir,efcigjebcs,fnfokslt,guqqlhv,jzbqij,oltxa,pjmd,pskkb,sdma,vlkyd,xndepvqye\n",
      "bxxbwirvh,hwmzeh,pjivphlhed,ujat,vhxsgbc,vigeiao\n",
      "azqsk,cokcgthpdb,dlpnbqzsg,fdtylftkk,gbaksopa,gytlmkkfc,ihokvwllge,jdldrcytg,jvpqgnoy,lyoyrzmad,mgsf,mnfidnq,ojkzp,omkndyis,pvctdsiyvc,rvnnbdahfe,ssdivwbza,svqqsdbru,uiiwa,vovohdihtw,vqixn,wupt,xfyrdkcck,ygcdhzknsu\n",
      "bdwce,fgniziycsf,ivyxtkjlnx,jwuc,kmkkboihd,kyjofnya,lbstxuoml,lwlbtlfvzf,mjshfdtmc,qscouaewc,rbyhxwdml,titxas,vnpjvoado,vzdwoiei,wudo,yhnsaf\n",
      "aixznfaj,cujfe,exawhicmg,hcrnsicckc,mkmnzgnae,mpovjralpx,mvfuifknx,nhktrs,okjjlpbl,rfbmmzrs,sfoo,uospptfn,vbah,zapvulab\n",
      "axukaebx,emreghuuwv,fanbp,haui,hqxnvbu,jbfkc,jouh,klrpjueh,oxibupwc,pqezjoif,qmapbc,wkxhgqjhno\n",
      "duruvp,ejkqhkgika,mhwhcqy,oehumcbq,uqiqsqqp\n",
      "apmzzpdcgq,cmffn,cucdsjt,dbyneogb,dtro,dzifr,fjdglyr,fueoyxily,hdqzts,ihvdnjyddt,ikekrq,kxfsqcl,lvuganjoix,mskgijo,oiwdwdjrd,paivvqsiws,sduamed,trcwtijrrx,twxznsxp,wwinsqdv,xzokvfls\n",
      "abdna,fqwndh,jrnz,odmw,vsuhlrngg,weekupyf,xqfgjdkd\n",
      "bsnpfitcm,buxenmgvr,camrmo,cctow,evui,igmmzlzcx,qeqvxjl,rvunsa,simjhco,xsgem,zqcm\n",
      "biaezhlb,cikwzp,etpajbiymr,pguysgudsx,zmvhd\n",
      "gxqfpufudv,nkxjybxefi,pxhcbrqgc,sgfbfvs,snnyv\n",
      "ecdw,eehgl,hhphzuceq,hscuahvr,iuoo,jgdboom,tdsowzrorz,ukae,uwhpw,wgwllhgj,xlafpscoen,xzfrws\n",
      "akns,bklchornw,chqmeyku,eiwq,exbsde,fmntzmevog,fqhocuuyht,gfetgzk,hbddqtwtic,iamevijyes,ilukh,nyauskb,pjew,qyvhjdj,sqgqo,stcypz,ttqhz,vwflhn,whbws,wnsay,wwouw,xmowyzuq,ydwwzpuvvv,yvicsoq\n",
      "tucoefxc,wkniykqi,zfoiw,zowrlgwo\n",
      "aobe,avwwuvfwvm,bodadaljjh,etddxavoto,gubyyu,iydw,jjbrlgp,jqcm,lhaduxdtt,lixio,llvw,mowrlwhl,nnsugzgw,nstewi,onhmvx,ouwmps,qror,ruzb,sktzuslnkr,tfdourprh,tvwdha,uvrofj,uxjvr,vezgjbekn,yvhqt\n",
      "abxb,csulipxox,hbzvxpzq,hsvne,kqpytllx,nfipupe,pqffieo,scklmbep,ukimuqg\n",
      "hfyu,izmplppg,nvime,uqoqlf,vtmliow,xvbu\n",
      "aofny,avwt,fbjytiwi,fwqnh,htusxo,inao,jjmpcxcsx,jxmo,lylfwqru,nbdup,nhoje,obzrzgd,qjqimvo,rnvqdv,saqal,ssgnqtmlgl,uzdjnv,xonsfcv,xoobxarjqf,ynsfq\n",
      "aqjbodmtd,avcnlzidce,hkpeehlse,hrmdo,icyoh,kdrv,nstyevcvr,okoqtloz,rtjwem,ukjhhh,vsvcmmhiqg,ykao\n",
      "adogm,dwarrp,ejgppc,fnzsli,hoyg,jclxyboo,kjbpvs,mrfxhte,mzaypecoqq,ocoeyxkn,qawfkl,qcpu,qwlzbijzwd,rkcdoude,szsowdfnl,uocxwyesag,wqgjfr\n",
      "bhwzrhrb,etsa,ewqtwve,ftzl,kxoedh,ortbjba,shnrruo,vzskr,wgpidac,wxoip,xijhcd,zcgek\n",
      "dvwpw,eeaxqy,eicd,hgocpenfh,ibfcp,jrieived,lrozvex,mdwopkqe\n",
      "bqsziowdrx,eucs,euvqn,iiklishccs,lnjyq,meyob,ojse,uyydltka,vancfteoxy,wdvf,xdwhb,ytelnck,yyazlxnoxf,zeftjlzqm,zgkda,zipcwrte,zuorhbwvf\n",
      "apivgdq,bmoddr,dgpk,kbugw,lslrxvwpv,njws,olabzushhr,phazbmat,qhwkhvtczj,tpmd,xaiytffkn\n",
      "coyfaxe,gfqbs,hyzpsby,mlhrdq,pyje,ucvtpb\n",
      "dftlwh,jmtsuvcmh,sardlckij,zgmjmgpgv\n",
      "bhaia,cvdtrymhp,czgf,fzaj,iolwq,kxwvy,liaunpoqcj,mnfcwjga,nrwimqkcd,ofem,orqfplkczo,paevzm,psyp,qpib,rcwvjqj,sknth,tlsqphp,yappzu,ybcccto\n",
      "afbruzlm,asoxzkgm,etozowwbyu,fpzfzhran,fsjy,gvedewqlwl,nsyny,omydxwsh,ouzu,rsum,sfkd,svbushefm,tmikgl,xtimvc,yjcp\n",
      "ddcx,grzqhpni,jfpjrgit,lfkf,owdfved,rrtp,sfhnjr,tjwzsrq,tskxxqvug,ybjtqripi,yqxw,zkalhcjxc\n",
      "ajhuahafd,avadbiq,dvumfuym,knpbnsj,largfg,myhyfcz,mzurncz,nnzgli,oscdl,piheygac,povnlbfgs,qyzurotar,rbmiu,slbbgsssmj,smukcfipp,svnyjchmq,wfemgmryoo,wtbpcnqbjc,zussl\n",
      "dxehq,efzgjha,fimzcyfbou,izyaptlicc,jcngik,jpotqj,kivyqiyq,ktiw,ktpfocoa,mgwmkrplqo,mqqfvqpssk,nohqkmiuqn,nrcpb,pgxzmagoef,pjmzmnuxw,qafjhokr,qeznqtcfl,udpln,urshvigad,uudrybe,wivbm,zjrecptsi,zsyzs,zzzsu\n",
      "aqfy,csvhgsf,elfuedbd,gnrlnu,hetwxfdaiw,ifiinz,kfztol,khzuup,lsdkyxkb,lvmvis,lydn,ntocai,qday,qssbsbdwl,snisd,xmkonitu,zshqygxae\n",
      "adkzb,drveqq,lhfsclk,zpqfzmbypb\n",
      "djaiq,fgqkgmgso,hosauegqrf,lqqrqyiaa,mbkfnqn,ogsn,ohlbuwddn,pmgejnloz,svzvsv,symze,xchdcmrzx,yatmnew\n"
     ]
    }
   ],
   "source": [
    "# This will test your function \n",
    "test_alpha(sort_alpha)"
   ]
  },
  {
   "cell_type": "markdown",
   "metadata": {},
   "source": [
    "## 12. Write a function to check if a given password is strong (at least 8 characters, at least one lower case, at least one upper case, at least one number and at least one special character). It should output True if strong and False if not.\n",
    "`Valid special characters: # @ ! $ % & ( ) ^ * [ ] { }`"
   ]
  },
  {
   "cell_type": "code",
   "execution_count": 40,
   "metadata": {},
   "outputs": [],
   "source": [
    "def check_pass(string):\n",
    "    \n",
    "    simbolos = '#@!$%&()^*[]{}]'\n",
    "    abc_minus = 'abcdefghijklmnopqrstuvwxyz'\n",
    "    abc_mayus = abc_minus.upper()\n",
    "    numeros = '0123456789'\n",
    "    \n",
    "    leng = 0\n",
    "    for h in string:\n",
    "        leng +=1\n",
    "    \n",
    "    if leng >=8:\n",
    "        for i in simbolos:\n",
    "            if i in string:\n",
    "                for j in abc_minus:\n",
    "                    if j in string:\n",
    "                        for k in abc_mayus:\n",
    "                            if k in string:\n",
    "                                for l in numeros:\n",
    "                                    if l in string:\n",
    "                                        # print('Tu contraseña es válida') ..........comento las funciones print para que no salga chorizo de resultados\n",
    "                                        return True\n",
    "                                    #else:\n",
    "                                        #print('Tu contraseña no es válida')\n",
    "                            #else:\n",
    "                                #print('Tu contraseña no es válida')\n",
    "                    #else:\n",
    "                        #print('Tu contraseña no es válida')\n",
    "            #else:\n",
    "                #print('Tu contraseña no es válida')\n",
    "    #else:\n",
    "        #print('Tu contraseña no es válida')\n",
    "    \n",
    "    return False\n",
    "    "
   ]
  },
  {
   "cell_type": "code",
   "execution_count": 41,
   "metadata": {},
   "outputs": [
    {
     "name": "stderr",
     "output_type": "stream",
     "text": [
      "....................................................................................................\n",
      "----------------------------------------------------------------------\n",
      "Ran 100 tests in 0.065s\n",
      "\n",
      "OK\n"
     ]
    }
   ],
   "source": [
    "# This will test your function \n",
    "test_pass(check_pass)"
   ]
  },
  {
   "cell_type": "code",
   "execution_count": null,
   "metadata": {},
   "outputs": [],
   "source": []
  }
 ],
 "metadata": {
  "kernelspec": {
   "display_name": "Python 3 (ipykernel)",
   "language": "python",
   "name": "python3"
  },
  "language_info": {
   "codemirror_mode": {
    "name": "ipython",
    "version": 3
   },
   "file_extension": ".py",
   "mimetype": "text/x-python",
   "name": "python",
   "nbconvert_exporter": "python",
   "pygments_lexer": "ipython3",
   "version": "3.10.4"
  },
  "toc": {
   "base_numbering": 1,
   "nav_menu": {},
   "number_sections": true,
   "sideBar": true,
   "skip_h1_title": false,
   "title_cell": "Table of Contents",
   "title_sidebar": "Contents",
   "toc_cell": true,
   "toc_position": {},
   "toc_section_display": true,
   "toc_window_display": false
  },
  "varInspector": {
   "cols": {
    "lenName": 16,
    "lenType": 16,
    "lenVar": 40
   },
   "kernels_config": {
    "python": {
     "delete_cmd_postfix": "",
     "delete_cmd_prefix": "del ",
     "library": "var_list.py",
     "varRefreshCmd": "print(var_dic_list())"
    },
    "r": {
     "delete_cmd_postfix": ") ",
     "delete_cmd_prefix": "rm(",
     "library": "var_list.r",
     "varRefreshCmd": "cat(var_dic_list()) "
    }
   },
   "types_to_exclude": [
    "module",
    "function",
    "builtin_function_or_method",
    "instance",
    "_Feature"
   ],
   "window_display": false
  }
 },
 "nbformat": 4,
 "nbformat_minor": 4
}
