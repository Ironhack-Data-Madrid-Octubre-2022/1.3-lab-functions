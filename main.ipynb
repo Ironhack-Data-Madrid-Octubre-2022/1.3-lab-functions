{
 "cells": [
  {
   "cell_type": "markdown",
   "metadata": {
    "toc": true
   },
   "source": [
    "<h1>Table of Contents<span class=\"tocSkip\"></span></h1>\n",
    "<div class=\"toc\"><ul class=\"toc-item\"><li><span><a href=\"#Functions\" data-toc-modified-id=\"Functions-1\"><span class=\"toc-item-num\">1&nbsp;&nbsp;</span>Functions</a></span><ul class=\"toc-item\"><li><span><a href=\"#1.-Write-a-function-that-returns-the-greater-of-two-numbers\" data-toc-modified-id=\"1.-Write-a-function-that-returns-the-greater-of-two-numbers-1.1\"><span class=\"toc-item-num\">1.1&nbsp;&nbsp;</span>1. Write a function that returns the greater of two numbers</a></span></li><li><span><a href=\"#2.-Now-write-a-function-that-returns-the-largest-element-on-a-list\" data-toc-modified-id=\"2.-Now-write-a-function-that-returns-the-largest-element-on-a-list-1.2\"><span class=\"toc-item-num\">1.2&nbsp;&nbsp;</span>2. Now write a function that returns the largest element on a list</a></span></li><li><span><a href=\"#3.-Write-a-function-that-sums-all-the-elements-on-a-list\" data-toc-modified-id=\"3.-Write-a-function-that-sums-all-the-elements-on-a-list-1.3\"><span class=\"toc-item-num\">1.3&nbsp;&nbsp;</span>3. Write a function that sums all the elements on a list</a></span></li><li><span><a href=\"#4.-Write-another-function-that-multiplies-all-the-elements-on-a-list\" data-toc-modified-id=\"4.-Write-another-function-that-multiplies-all-the-elements-on-a-list-1.4\"><span class=\"toc-item-num\">1.4&nbsp;&nbsp;</span>4. Write another function that multiplies all the elements on a list</a></span></li><li><span><a href=\"#5.-Now-combine-those-two-ideas-and-write-a-function-that-receives-a-list-and-either-&quot;+&quot;-or-&quot;*&quot;-and-outputs-acordingly\" data-toc-modified-id=\"5.-Now-combine-those-two-ideas-and-write-a-function-that-receives-a-list-and-either-&quot;+&quot;-or-&quot;*&quot;-and-outputs-acordingly-1.5\"><span class=\"toc-item-num\">1.5&nbsp;&nbsp;</span>5. Now combine those two ideas and write a function that receives a list and either \"+\" or \"*\" and outputs acordingly</a></span></li><li><span><a href=\"#6.-Write-a-function-that-returns-the-factorial-of-a-number.\" data-toc-modified-id=\"6.-Write-a-function-that-returns-the-factorial-of-a-number.-1.6\"><span class=\"toc-item-num\">1.6&nbsp;&nbsp;</span>6. Write a function that returns the factorial of a number.</a></span></li><li><span><a href=\"#7.-Write-a-function-that-takes-a-list-and-returns-a-list-of-the-unique-values.\" data-toc-modified-id=\"7.-Write-a-function-that-takes-a-list-and-returns-a-list-of-the-unique-values.-1.7\"><span class=\"toc-item-num\">1.7&nbsp;&nbsp;</span>7. Write a function that takes a list and returns a list of the unique values.</a></span></li><li><span><a href=\"#8.-Write-a-function-that-returns-the-mode-of-a-list,-i.e.:-the-element-that-appears-the-most-times.\" data-toc-modified-id=\"8.-Write-a-function-that-returns-the-mode-of-a-list,-i.e.:-the-element-that-appears-the-most-times.-1.8\"><span class=\"toc-item-num\">1.8&nbsp;&nbsp;</span>8. Write a function that returns the mode of a list, i.e.: the element that appears the most times.</a></span></li><li><span><a href=\"#9.-Write-a-function-that-calculates-the-standard-deviation-of-a-list.\" data-toc-modified-id=\"9.-Write-a-function-that-calculates-the-standard-deviation-of-a-list.-1.9\"><span class=\"toc-item-num\">1.9&nbsp;&nbsp;</span>9. Write a function that calculates the standard deviation of a list.</a></span></li><li><span><a href=\"#10.-Write-a-function-to-check-if-a-string-is-a-pangram,-i.e.:-if-it-contains-all-the-letters-of-the-alphabet-at-least-once.-Mind-that-the-strings-may-contain-characters-that-are-not-letters.\" data-toc-modified-id=\"10.-Write-a-function-to-check-if-a-string-is-a-pangram,-i.e.:-if-it-contains-all-the-letters-of-the-alphabet-at-least-once.-Mind-that-the-strings-may-contain-characters-that-are-not-letters.-1.10\"><span class=\"toc-item-num\">1.10&nbsp;&nbsp;</span>10. Write a function to check if a string is a pangram, i.e.: if it contains all the letters of the alphabet at least once. Mind that the strings may contain characters that are not letters.</a></span></li><li><span><a href=\"#11.-Write-a-function-that-receives-a-string-of-comma-separated-words-and-returns-a-string-of-comma-separated-words-sorted-alphabetically.\" data-toc-modified-id=\"11.-Write-a-function-that-receives-a-string-of-comma-separated-words-and-returns-a-string-of-comma-separated-words-sorted-alphabetically.-1.11\"><span class=\"toc-item-num\">1.11&nbsp;&nbsp;</span>11. Write a function that receives a string of comma separated words and returns a string of comma separated words sorted alphabetically.</a></span></li><li><span><a href=\"#12.-Write-a-function-to-check-if-a-given-password-is-strong-(at-least-8-characters,-at-least-one-lower-case,-at-least-one-upper-case,-at-least-one-number-and-at-least-one-special-character).-It-should-output-True-if-strong-and-False-if-not.\" data-toc-modified-id=\"12.-Write-a-function-to-check-if-a-given-password-is-strong-(at-least-8-characters,-at-least-one-lower-case,-at-least-one-upper-case,-at-least-one-number-and-at-least-one-special-character).-It-should-output-True-if-strong-and-False-if-not.-1.12\"><span class=\"toc-item-num\">1.12&nbsp;&nbsp;</span>12. Write a function to check if a given password is strong (at least 8 characters, at least one lower case, at least one upper case, at least one number and at least one special character). It should output True if strong and False if not.</a></span></li></ul></li></ul></div>"
   ]
  },
  {
   "cell_type": "markdown",
   "metadata": {},
   "source": [
    "# Functions"
   ]
  },
  {
   "cell_type": "markdown",
   "metadata": {},
   "source": [
    "On this lab we will put to practice some of the concepts we have learned on this past few days.\n",
    "\n",
    "`NOTE: On this lab you should try to write all the functions yourself using only the most basic of python syntax and without functions such as len, count, sum, max, min, in, etc. Give it a try. 🧑🏻‍💻👩🏻‍💻`\n",
    "\n",
    "The cell after each exercise contains a few tests to check if your function works as expected."
   ]
  },
  {
   "cell_type": "code",
   "execution_count": 21,
   "metadata": {},
   "outputs": [],
   "source": [
    "#Run this cell\n",
    "\n",
    "from mod.testing import *\n",
    "import unittest"
   ]
  },
  {
   "cell_type": "markdown",
   "metadata": {},
   "source": [
    "## 1. Write a function that returns the greater of two numbers"
   ]
  },
  {
   "cell_type": "code",
   "execution_count": 22,
   "metadata": {},
   "outputs": [],
   "source": [
    "def greater(a,b):\n",
    "    \n",
    "    if a > b:\n",
    "        return a\n",
    "    else:\n",
    "        return b"
   ]
  },
  {
   "cell_type": "code",
   "execution_count": 23,
   "metadata": {},
   "outputs": [
    {
     "name": "stderr",
     "output_type": "stream",
     "text": [
      "....................................................................................................\n",
      "----------------------------------------------------------------------\n",
      "Ran 100 tests in 0.152s\n",
      "\n",
      "OK\n"
     ]
    }
   ],
   "source": [
    "# This will test your function \n",
    "test_greater(greater)\n"
   ]
  },
  {
   "cell_type": "code",
   "execution_count": null,
   "metadata": {},
   "outputs": [],
   "source": []
  },
  {
   "cell_type": "markdown",
   "metadata": {},
   "source": [
    "## 2. Now write a function that returns the largest element on a list"
   ]
  },
  {
   "cell_type": "code",
   "execution_count": 47,
   "metadata": {},
   "outputs": [],
   "source": [
    "def greatest(arr):\n",
    "    \n",
    "    largest = 0 \n",
    "    \n",
    "    for i in arr:\n",
    "        if  i > largest:\n",
    "            largest = i\n",
    "    return largest\n"
   ]
  },
  {
   "cell_type": "code",
   "execution_count": 48,
   "metadata": {},
   "outputs": [
    {
     "name": "stderr",
     "output_type": "stream",
     "text": [
      "....................................................................................................\n",
      "----------------------------------------------------------------------\n",
      "Ran 100 tests in 0.272s\n",
      "\n",
      "OK\n"
     ]
    }
   ],
   "source": [
    "# This will test your function \n",
    "test_greatest(greatest)"
   ]
  },
  {
   "cell_type": "markdown",
   "metadata": {},
   "source": [
    "## 3. Write a function that sums all the elements on a list"
   ]
  },
  {
   "cell_type": "code",
   "execution_count": 58,
   "metadata": {},
   "outputs": [],
   "source": [
    "def sum_all(arr):\n",
    "    \n",
    "    summ = 0 \n",
    "    \n",
    "    for n in arr:\n",
    "        \n",
    "        summ += n\n",
    "        \n",
    "    return summ"
   ]
  },
  {
   "cell_type": "code",
   "execution_count": 59,
   "metadata": {},
   "outputs": [
    {
     "name": "stderr",
     "output_type": "stream",
     "text": [
      "....................................................................................................\n",
      "----------------------------------------------------------------------\n",
      "Ran 100 tests in 0.267s\n",
      "\n",
      "OK\n"
     ]
    }
   ],
   "source": [
    "# This will test your function \n",
    "test_sum(sum_all)"
   ]
  },
  {
   "cell_type": "markdown",
   "metadata": {},
   "source": [
    "## 4. Write another function that multiplies all the elements on a list"
   ]
  },
  {
   "cell_type": "code",
   "execution_count": 68,
   "metadata": {},
   "outputs": [],
   "source": [
    "def mult_all(arr):\n",
    "    \n",
    "    mult = 1\n",
    "    \n",
    "    for i in arr:\n",
    "        \n",
    "        mult = mult *i\n",
    "    \n",
    "    return mult"
   ]
  },
  {
   "cell_type": "code",
   "execution_count": 69,
   "metadata": {},
   "outputs": [
    {
     "name": "stderr",
     "output_type": "stream",
     "text": [
      "....................................................................................................\n",
      "----------------------------------------------------------------------\n",
      "Ran 100 tests in 0.241s\n",
      "\n",
      "OK\n"
     ]
    }
   ],
   "source": [
    "# This will test your function \n",
    "test_mult(mult_all)"
   ]
  },
  {
   "cell_type": "markdown",
   "metadata": {},
   "source": [
    "## 5. Now combine those two ideas and write a function that receives a list and either \"+\" or \"*\" and outputs acordingly"
   ]
  },
  {
   "cell_type": "code",
   "execution_count": 78,
   "metadata": {},
   "outputs": [],
   "source": [
    "def oper_all(arr, oper):\n",
    "    \n",
    "    if oper == \"+\":\n",
    "        total = 0\n",
    "        \n",
    "        for i in arr:\n",
    "            \n",
    "            total += i\n",
    "    else:\n",
    "        \n",
    "        total =  1\n",
    "        \n",
    "        for i in arr:\n",
    "            \n",
    "            total *=i\n",
    "    return total\n",
    "    \n",
    "        \n",
    "        "
   ]
  },
  {
   "cell_type": "code",
   "execution_count": 79,
   "metadata": {},
   "outputs": [
    {
     "name": "stderr",
     "output_type": "stream",
     "text": [
      "....................................................................................................\n",
      "----------------------------------------------------------------------\n",
      "Ran 100 tests in 0.243s\n",
      "\n",
      "OK\n"
     ]
    }
   ],
   "source": [
    "# This will test your function \n",
    "test_operations(oper_all)"
   ]
  },
  {
   "cell_type": "markdown",
   "metadata": {},
   "source": [
    "## 6. Write a function that returns the factorial of a number."
   ]
  },
  {
   "cell_type": "code",
   "execution_count": 97,
   "metadata": {},
   "outputs": [
    {
     "name": "stdout",
     "output_type": "stream",
     "text": [
      "Factorial of 5 is 120\n"
     ]
    }
   ],
   "source": [
    "def factorial(n):\n",
    "     \n",
    "    return 1 if (n==1 or n==0) else n * factorial(n - 1);\n",
    "\n",
    "num = 5;\n",
    "print(\"Factorial of\",num,\"is\",\n",
    "factorial(num))\n",
    " \n",
    "    "
   ]
  },
  {
   "cell_type": "code",
   "execution_count": 98,
   "metadata": {},
   "outputs": [
    {
     "name": "stderr",
     "output_type": "stream",
     "text": [
      "....................................................................................................\n",
      "----------------------------------------------------------------------\n",
      "Ran 100 tests in 0.270s\n",
      "\n",
      "OK\n"
     ]
    }
   ],
   "source": [
    "# This will test your function \n",
    "test_factorial(factorial)"
   ]
  },
  {
   "cell_type": "markdown",
   "metadata": {},
   "source": [
    "## 7. Write a function that takes a list and returns a list of the unique values.\n",
    "\n",
    "`NOTE: You cannot use set. 🤔`"
   ]
  },
  {
   "cell_type": "code",
   "execution_count": 143,
   "metadata": {},
   "outputs": [],
   "source": [
    "def unique(arr):\n",
    "    \n",
    "    k = []\n",
    "    for i in arr:\n",
    "        if i not in k:\n",
    "            k.append(i)\n",
    "                \n",
    "    return k\n",
    "   "
   ]
  },
  {
   "cell_type": "code",
   "execution_count": 144,
   "metadata": {},
   "outputs": [
    {
     "name": "stderr",
     "output_type": "stream",
     "text": [
      "....................................................................................................\n",
      "----------------------------------------------------------------------\n",
      "Ran 100 tests in 0.364s\n",
      "\n",
      "OK\n"
     ]
    }
   ],
   "source": [
    "# This will test your function \n",
    "test_unique(unique)"
   ]
  },
  {
   "cell_type": "markdown",
   "metadata": {},
   "source": [
    "## 8. Write a function that returns the mode of a list, i.e.: the element that appears the most times.\n",
    "`NOTE: You should not use count... 🧐`"
   ]
  },
  {
   "cell_type": "code",
   "execution_count": 154,
   "metadata": {},
   "outputs": [],
   "source": [
    "def mode_counter(arr):\n",
    "    mode={}\n",
    "    for e in arr:\n",
    "        if e in mode:\n",
    "            mode[e]+=1\n",
    "        else:\n",
    "            mode.update({e:1})\n",
    "    moda=0\n",
    "    numero=0\n",
    "    for k,value in mode.items():\n",
    "        if moda < value :\n",
    "            moda = value\n",
    "            numero = k\n",
    "    return numero"
   ]
  },
  {
   "cell_type": "code",
   "execution_count": 155,
   "metadata": {},
   "outputs": [
    {
     "name": "stderr",
     "output_type": "stream",
     "text": [
      "....................................................................................................\n",
      "----------------------------------------------------------------------\n",
      "Ran 100 tests in 0.217s\n",
      "\n",
      "OK\n"
     ]
    }
   ],
   "source": [
    "# This will test your function \n",
    "test_mode(mode_counter)"
   ]
  },
  {
   "cell_type": "markdown",
   "metadata": {},
   "source": [
    "## 9. Write a function that calculates the standard deviation of a list.\n",
    "`NOTE: Do not use any libraries or already built functions. 😉`"
   ]
  },
  {
   "cell_type": "code",
   "execution_count": 156,
   "metadata": {},
   "outputs": [],
   "source": [
    "from statistics import stdev\n",
    "def st_dev(arr):\n",
    "    mean = sum(arr) / len(arr)\n",
    "    var  = sum((x-mean)**2 for x in arr) / len(arr)\n",
    "    std  = (var)**0.5\n",
    "    print(stdev(arr))\n",
    "    print(std)\n",
    "    return stdev(arr)"
   ]
  },
  {
   "cell_type": "code",
   "execution_count": 157,
   "metadata": {},
   "outputs": [
    {
     "name": "stderr",
     "output_type": "stream",
     "text": [
      ".............................................."
     ]
    },
    {
     "name": "stdout",
     "output_type": "stream",
     "text": [
      "566.1679306839637\n",
      "561.9269126866981\n",
      "540.4265635169734\n",
      "533.2682797352053\n",
      "571.8752156885631\n",
      "565.6250256660638\n",
      "537.8625421850031\n",
      "524.9000941546282\n",
      "558.5005842078011\n",
      "551.1028988534298\n",
      "462.54279128123244\n",
      "458.3943416415385\n",
      "562.4169842068194\n",
      "557.7104831859946\n",
      "544.6173375172006\n",
      "540.9743712968295\n",
      "561.1244192139941\n",
      "558.0994676936912\n",
      "583.8851896808843\n",
      "577.0558882006881\n",
      "571.4266468221557\n",
      "566.9448000026105\n",
      "544.3071718223978\n",
      "540.6662803122337\n",
      "568.5273120214753\n",
      "565.2122557028953\n",
      "638.69608670828\n",
      "619.6262183922103\n",
      "561.8523679164601\n",
      "555.968934921028\n",
      "558.6289359991955\n",
      "553.8745607216954\n",
      "592.316945194253\n",
      "587.5207776342256\n",
      "546.409063843181\n",
      "542.7045529000981\n",
      "584.360505838916\n",
      "578.6031190690092\n",
      "515.032960927503\n",
      "510.3293650442293\n",
      "563.04600765494\n",
      "559.8007586788002\n",
      "579.835919410087\n",
      "576.0584464992246\n",
      "552.7007715365909\n",
      "544.9703100985308\n",
      "571.0124911397245\n",
      "565.9814460120728\n",
      "565.7431690558299\n",
      "541.6578460820283\n",
      "622.6094769470777\n",
      "618.9362326356442\n",
      "562.6475841197922\n",
      "557.8590069597145\n",
      "558.5450965274156\n",
      "551.8556923829087\n",
      "597.4315056480423\n",
      "587.0405998514581\n",
      "521.3287359655097\n",
      "516.4790609215154\n",
      "638.9122511686923\n",
      "631.6101570556539\n",
      "611.5375020594573\n",
      "604.8538314108631\n",
      "656.3486108707289\n",
      "646.0117662616042\n",
      "588.8816160766085\n",
      "585.8694141436197\n",
      "769.0691966050042\n",
      "744.6480476330747\n",
      "563.6942188933581\n",
      "553.8900932802527\n",
      "627.456699915038\n",
      "620.745740121979\n",
      "565.6934424447129\n",
      "561.695558833547\n",
      "494.01420683937806\n",
      "485.9809201343726\n",
      "621.0718231959177\n",
      "617.2261402559124\n",
      "609.8956627275844\n",
      "606.5353304735573\n",
      "589.5116708684317\n",
      "585.5684047335736\n",
      "589.5334473417018\n",
      "584.0492960760363\n",
      "557.4218420241853\n",
      "554.5410897058716\n",
      "561.1447002559809\n",
      "557.5360152349116\n",
      "596.559987418722\n",
      "593.4118916319372\n",
      "561.7102482328322\n",
      "557.2343980330198\n"
     ]
    },
    {
     "name": "stderr",
     "output_type": "stream",
     "text": [
      "....................................................."
     ]
    },
    {
     "name": "stdout",
     "output_type": "stream",
     "text": [
      "516.7057363226365\n",
      "510.20603436258966\n",
      "460.25799747796265\n",
      "440.6634833470497\n",
      "485.4105735995999\n",
      "480.7205063771249\n",
      "572.385561286473\n",
      "566.9599832805746\n",
      "632.0096694056367\n",
      "620.6211749990027\n",
      "631.2785265309376\n",
      "627.2703683784737\n",
      "517.5780551156075\n",
      "512.4786395713646\n",
      "559.6235795779803\n",
      "555.0175458632556\n",
      "563.7857771491963\n",
      "558.5411443005281\n",
      "487.3113778143995\n",
      "474.97237814424534\n",
      "582.9710496583483\n",
      "576.1524402421388\n",
      "614.4777514855253\n",
      "607.6118627894531\n",
      "530.3035898764947\n",
      "509.49920881879916\n",
      "558.3165210717061\n",
      "549.5235853886869\n",
      "548.2123641753924\n",
      "541.8003030779511\n",
      "551.9914398637675\n",
      "545.6827590768459\n",
      "590.6420821353564\n",
      "586.6912546362581\n",
      "613.9089358312896\n",
      "608.4029148713702\n",
      "532.6003578899378\n",
      "527.2474546168999\n",
      "623.067334540005\n",
      "619.596180319623\n",
      "511.03827229526416\n",
      "505.1976430807849\n",
      "589.2721014583242\n",
      "584.7908797584556\n",
      "523.1535508862365\n",
      "516.7342458026629\n",
      "613.3739720362919\n",
      "609.87893519876\n",
      "543.4371465623367\n",
      "535.3857807749991\n",
      "627.3090377062001\n",
      "600.6026776404589\n",
      "732.4342193769251\n",
      "707.5986809861458\n",
      "549.7921639396217\n",
      "546.54852404425\n",
      "609.0719192162595\n",
      "605.3005398016963\n",
      "613.1535994073307\n",
      "607.7512597445973\n",
      "587.965051013096\n",
      "583.8676836658466\n",
      "553.6952285189534\n",
      "543.7179207051377\n",
      "555.8524625419592\n",
      "545.4617806811156\n",
      "614.4615652353816\n",
      "600.3341235656651\n",
      "536.1775619204675\n",
      "530.0496171028794\n",
      "686.343464876483\n",
      "671.2571508527029\n",
      "526.8574492892164\n",
      "520.6951618706064\n",
      "676.7164239871153\n",
      "668.8013397245154\n",
      "647.8583438623918\n",
      "637.9667959153844\n",
      "594.1395165455398\n",
      "584.7824039426439\n",
      "552.4334704662456\n",
      "547.9602513364862\n",
      "570.0125242288784\n",
      "540.7613614155508\n",
      "566.2957406453062\n",
      "558.37513041452\n",
      "606.4305863803054\n",
      "598.9894384813931\n",
      "569.1859062145982\n",
      "551.1118839162789\n",
      "564.7922108555573\n",
      "558.7514787715778\n",
      "534.1118378097059\n",
      "529.9873603494498\n",
      "602.2580594407104\n",
      "592.7730877779035\n",
      "566.8323193744314\n",
      "563.9329023074226\n",
      "573.172829784377\n",
      "564.421585656018\n",
      "629.601112576938\n",
      "625.8422663701161\n",
      "589.6364137390564\n",
      "585.2195993859551\n"
     ]
    },
    {
     "name": "stderr",
     "output_type": "stream",
     "text": [
      ".\n",
      "----------------------------------------------------------------------\n",
      "Ran 100 tests in 0.421s\n",
      "\n",
      "OK\n"
     ]
    },
    {
     "name": "stdout",
     "output_type": "stream",
     "text": [
      "556.0833468073749\n",
      "551.1838385550435\n"
     ]
    }
   ],
   "source": [
    "# This will test your function \n",
    "test_stdev(st_dev)"
   ]
  },
  {
   "cell_type": "markdown",
   "metadata": {},
   "source": [
    "## 10. Write a function to check if a string is a pangram, i.e.: if it contains all the letters of the alphabet at least once. Mind that the strings may contain characters that are not letters."
   ]
  },
  {
   "cell_type": "code",
   "execution_count": null,
   "metadata": {},
   "outputs": [],
   "source": [
    "def pangram(string):\n",
    "    pass"
   ]
  },
  {
   "cell_type": "code",
   "execution_count": null,
   "metadata": {},
   "outputs": [],
   "source": [
    "# This will test your function \n",
    "test_pangram(pangram)"
   ]
  },
  {
   "cell_type": "markdown",
   "metadata": {},
   "source": [
    "## 11. Write a function that receives a string of comma separated words and returns a string of comma separated words sorted alphabetically.\n",
    "\n",
    "`NOTE: You may use sorted but not split and definitely no join! 🤪`"
   ]
  },
  {
   "cell_type": "code",
   "execution_count": 15,
   "metadata": {},
   "outputs": [
    {
     "ename": "SyntaxError",
     "evalue": "invalid syntax (3586991472.py, line 16)",
     "output_type": "error",
     "traceback": [
      "\u001b[0;36m  File \u001b[0;32m\"/var/folders/41/xnksc3m541lchdrncpcngj8r0000gn/T/ipykernel_30708/3586991472.py\"\u001b[0;36m, line \u001b[0;32m16\u001b[0m\n\u001b[0;31m    for letra in string(index:):\u001b[0m\n\u001b[0m                             ^\u001b[0m\n\u001b[0;31mSyntaxError\u001b[0m\u001b[0;31m:\u001b[0m invalid syntax\n"
     ]
    }
   ],
   "source": [
    "def sort_alpha(string):\n",
    "    \n",
    "    commas = 0\n",
    "    for e in string:\n",
    "        if e ==',':\n",
    "            comas+=1\n",
    "            \n",
    "    lst=[]\n",
    "    \n",
    "    index = 0\n",
    "    \n",
    "    for i in range(comas+1):\n",
    "        \n",
    "        str_tmp=''\n",
    "        \n",
    "        for letra in string(index:):\n",
    "            \n",
    "            index +=1\n",
    "            \n",
    "            if letra!=',':\n",
    "                str_tmp+=letra\n",
    "                \n",
    "            elif letra==',':\n",
    "                    break\n",
    "                \n",
    "        lst.append(str_tmp)\n",
    "        lst=sorted(lst)\n",
    "                \n",
    "        return lst  "
   ]
  },
  {
   "cell_type": "code",
   "execution_count": 16,
   "metadata": {},
   "outputs": [
    {
     "ename": "NameError",
     "evalue": "name 'test_alpha' is not defined",
     "output_type": "error",
     "traceback": [
      "\u001b[0;31m---------------------------------------------------------------------------\u001b[0m",
      "\u001b[0;31mNameError\u001b[0m                                 Traceback (most recent call last)",
      "\u001b[0;32m/var/folders/41/xnksc3m541lchdrncpcngj8r0000gn/T/ipykernel_30708/3303434657.py\u001b[0m in \u001b[0;36m<module>\u001b[0;34m\u001b[0m\n\u001b[1;32m      1\u001b[0m \u001b[0;31m# This will test your function\u001b[0m\u001b[0;34m\u001b[0m\u001b[0;34m\u001b[0m\u001b[0;34m\u001b[0m\u001b[0m\n\u001b[0;32m----> 2\u001b[0;31m \u001b[0mtest_alpha\u001b[0m\u001b[0;34m(\u001b[0m\u001b[0msort_alpha\u001b[0m\u001b[0;34m)\u001b[0m\u001b[0;34m\u001b[0m\u001b[0;34m\u001b[0m\u001b[0m\n\u001b[0m",
      "\u001b[0;31mNameError\u001b[0m: name 'test_alpha' is not defined"
     ]
    }
   ],
   "source": [
    "# This will test your function \n",
    "test_alpha(sort_alpha)"
   ]
  },
  {
   "cell_type": "markdown",
   "metadata": {},
   "source": [
    "## 12. Write a function to check if a given password is strong (at least 8 characters, at least one lower case, at least one upper case, at least one number and at least one special character). It should output True if strong and False if not.\n",
    "`Valid special characters: # @ ! $ % & ( ) ^ * [ ] { }`"
   ]
  },
  {
   "cell_type": "code",
   "execution_count": 19,
   "metadata": {},
   "outputs": [],
   "source": [
    "def check_pass(string):\n",
    "    \n",
    "    len = 0\n",
    "    \n",
    "    for e in string:\n",
    "        len+=1\n",
    "        \n",
    "    res=0\n",
    "    \n",
    "    if len>=8:\n",
    "        res+=1\n",
    "        \n",
    "    for e in string:\n",
    "        if e.islower():\n",
    "            res+=1\n",
    "            break\n",
    "            \n",
    "    for e in string:\n",
    "        if e.isupper():\n",
    "            res+=1\n",
    "            break\n",
    "            \n",
    "    for e in string:\n",
    "        if e.isnumeric():\n",
    "            res+=1\n",
    "            break\n",
    "            \n",
    "    specials=['#', '0', '!',]\n",
    "    \n",
    "    for e in string:\n",
    "        if e in specials():\n",
    "            res+=1\n",
    "            break\n",
    "            \n",
    "            \n",
    "            \n",
    "    \n",
    "        \n",
    "        \n",
    "        return res==5"
   ]
  },
  {
   "cell_type": "code",
   "execution_count": 20,
   "metadata": {},
   "outputs": [
    {
     "ename": "NameError",
     "evalue": "name 'test_pass' is not defined",
     "output_type": "error",
     "traceback": [
      "\u001b[0;31m---------------------------------------------------------------------------\u001b[0m",
      "\u001b[0;31mNameError\u001b[0m                                 Traceback (most recent call last)",
      "\u001b[0;32m/var/folders/41/xnksc3m541lchdrncpcngj8r0000gn/T/ipykernel_30708/3265927810.py\u001b[0m in \u001b[0;36m<module>\u001b[0;34m\u001b[0m\n\u001b[1;32m      1\u001b[0m \u001b[0;31m# This will test your function\u001b[0m\u001b[0;34m\u001b[0m\u001b[0;34m\u001b[0m\u001b[0;34m\u001b[0m\u001b[0m\n\u001b[0;32m----> 2\u001b[0;31m \u001b[0mtest_pass\u001b[0m\u001b[0;34m(\u001b[0m\u001b[0mcheck_pass\u001b[0m\u001b[0;34m)\u001b[0m\u001b[0;34m\u001b[0m\u001b[0;34m\u001b[0m\u001b[0m\n\u001b[0m",
      "\u001b[0;31mNameError\u001b[0m: name 'test_pass' is not defined"
     ]
    }
   ],
   "source": [
    "# This will test your function \n",
    "test_pass(check_pass)"
   ]
  },
  {
   "cell_type": "code",
   "execution_count": null,
   "metadata": {},
   "outputs": [],
   "source": []
  }
 ],
 "metadata": {
  "kernelspec": {
   "display_name": "Python 3 (ipykernel)",
   "language": "python",
   "name": "python3"
  },
  "language_info": {
   "codemirror_mode": {
    "name": "ipython",
    "version": 3
   },
   "file_extension": ".py",
   "mimetype": "text/x-python",
   "name": "python",
   "nbconvert_exporter": "python",
   "pygments_lexer": "ipython3",
   "version": "3.7.13"
  },
  "toc": {
   "base_numbering": 1,
   "nav_menu": {},
   "number_sections": true,
   "sideBar": true,
   "skip_h1_title": false,
   "title_cell": "Table of Contents",
   "title_sidebar": "Contents",
   "toc_cell": true,
   "toc_position": {},
   "toc_section_display": true,
   "toc_window_display": false
  },
  "varInspector": {
   "cols": {
    "lenName": 16,
    "lenType": 16,
    "lenVar": 40
   },
   "kernels_config": {
    "python": {
     "delete_cmd_postfix": "",
     "delete_cmd_prefix": "del ",
     "library": "var_list.py",
     "varRefreshCmd": "print(var_dic_list())"
    },
    "r": {
     "delete_cmd_postfix": ") ",
     "delete_cmd_prefix": "rm(",
     "library": "var_list.r",
     "varRefreshCmd": "cat(var_dic_list()) "
    }
   },
   "types_to_exclude": [
    "module",
    "function",
    "builtin_function_or_method",
    "instance",
    "_Feature"
   ],
   "window_display": false
  }
 },
 "nbformat": 4,
 "nbformat_minor": 4
}
